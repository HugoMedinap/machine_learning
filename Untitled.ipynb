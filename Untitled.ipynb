{
 "cells": [
  {
   "cell_type": "code",
   "execution_count": null,
   "metadata": {},
   "outputs": [],
   "source": [
    "str1=\"Eyyyyyyyyyy Muy Buenas A Todos Guapisimos Aqui Vegeta Setecientos Setenta Y Siete 123234234234 /!#$%&/()=\"\n",
    "str2=\"eyyyyyyyyyy muy buenas a todos guapisimos aqui vegeta setecientos setenta y siete 123234234234 /!#$%&/()= equisde\"\n",
    "print(\"str1 : \",str1.istitle())\n",
    "print(\"str2 : \",str2.istitle())\n",
    "\n",
    "print(\"\\n\",str2.title())\n",
    "print(str1.swapcase())\n"
   ]
  },
  {
   "cell_type": "code",
   "execution_count": 61,
   "metadata": {},
   "outputs": [],
   "source": [
    "obj=open('prueba.txt','w+')"
   ]
  },
  {
   "cell_type": "code",
   "execution_count": null,
   "metadata": {},
   "outputs": [],
   "source": [
    "string=\"HOLA MUNDO\"\n",
    "obj.write(string)"
   ]
  },
  {
   "cell_type": "code",
   "execution_count": 75,
   "metadata": {},
   "outputs": [],
   "source": [
    "obj.close()"
   ]
  },
  {
   "cell_type": "code",
   "execution_count": null,
   "metadata": {},
   "outputs": [],
   "source": [
    "obj.seek(0,0)"
   ]
  },
  {
   "cell_type": "code",
   "execution_count": null,
   "metadata": {},
   "outputs": [],
   "source": [
    "obj.read()"
   ]
  },
  {
   "cell_type": "code",
   "execution_count": null,
   "metadata": {},
   "outputs": [],
   "source": [
    "obj.tell()"
   ]
  },
  {
   "cell_type": "code",
   "execution_count": null,
   "metadata": {},
   "outputs": [],
   "source": [
    "obj.write(\"123456789ABCDEF\")"
   ]
  },
  {
   "cell_type": "code",
   "execution_count": 1,
   "metadata": {},
   "outputs": [],
   "source": [
    "import os"
   ]
  },
  {
   "cell_type": "code",
   "execution_count": null,
   "metadata": {},
   "outputs": [],
   "source": [
    "os.remove(\"prueba.txt\")"
   ]
  },
  {
   "cell_type": "code",
   "execution_count": 102,
   "metadata": {},
   "outputs": [],
   "source": [
    "email=\"HOLAguapo_72@gmail.com\"\n",
    "string=\"tugfaeaea978889aefe7\""
   ]
  },
  {
   "cell_type": "code",
   "execution_count": 116,
   "metadata": {},
   "outputs": [
    {
     "name": "stdout",
     "output_type": "stream",
     "text": [
      "HOLAguapo_72\n"
     ]
    }
   ],
   "source": [
    "print(email.strip('@gmail.com'))"
   ]
  },
  {
   "cell_type": "code",
   "execution_count": 150,
   "metadata": {},
   "outputs": [],
   "source": [
    "frase=\"una vez vi una vaca vestida de uniforme\"\n",
    "a=frase.partition('vi') #The partition method returns a 3-tuple containing\n",
    "b=frase.partition('vaca')"
   ]
  },
  {
   "cell_type": "code",
   "execution_count": 155,
   "metadata": {},
   "outputs": [
    {
     "data": {
      "text/plain": [
       "-1"
      ]
     },
     "execution_count": 155,
     "metadata": {},
     "output_type": "execute_result"
    }
   ],
   "source": [
    "frase.find(\"/\")"
   ]
  },
  {
   "cell_type": "code",
   "execution_count": 138,
   "metadata": {},
   "outputs": [
    {
     "name": "stdout",
     "output_type": "stream",
     "text": [
      "uno vez vi uno vaca vestida de uniforme\n"
     ]
    }
   ],
   "source": [
    "print(frase.replace('una','uno',2))#returns a copy of the string where the old substring is replaced with the new substring"
   ]
  },
  {
   "cell_type": "code",
   "execution_count": 145,
   "metadata": {},
   "outputs": [
    {
     "data": {
      "text/plain": [
       "'una vaca menos la integral vestida de uniforme'"
      ]
     },
     "execution_count": 145,
     "metadata": {},
     "output_type": "execute_result"
    }
   ],
   "source": [
    "tabstring='una\\tvaca\\tmenos\\tla\\tintegral\\tvestida\\tde\\tuniforme'\n",
    "tabstring.expandtabs(1)"
   ]
  },
  {
   "cell_type": "code",
   "execution_count": 146,
   "metadata": {},
   "outputs": [
    {
     "name": "stdout",
     "output_type": "stream",
     "text": [
      "['Milk', 'Chicken', 'Bread', 'Butter']\n",
      "['Milk\\n', 'Chicken\\r\\n', 'Bread\\r', 'Butter']\n",
      "['Milk Chicken Bread Butter']\n"
     ]
    }
   ],
   "source": [
    "grocery = 'Milk\\nChicken\\r\\nBread\\rButter'\n",
    "print(grocery.splitlines())\n",
    "print(grocery.splitlines(True))\n",
    "grocery = 'Milk Chicken Bread Butter'\n",
    "print(grocery.splitlines())"
   ]
  },
  {
   "cell_type": "code",
   "execution_count": 147,
   "metadata": {},
   "outputs": [
    {
     "name": "stdout",
     "output_type": "stream",
     "text": [
      "False\n"
     ]
    }
   ],
   "source": [
    "text = \"Python is easy to learn.\"\n",
    "result = text.startswith('is easy')\n",
    "print(result)"
   ]
  },
  {
   "cell_type": "code",
   "execution_count": 148,
   "metadata": {},
   "outputs": [
    {
     "name": "stdout",
     "output_type": "stream",
     "text": [
      "0program is fun\n",
      "000000program is fun\n",
      "program is fun\n"
     ]
    }
   ],
   "source": [
    "text = \"program is fun\"\n",
    "print(text.zfill(15))\n",
    "print(text.zfill(20))\n",
    "print(text.zfill(10))"
   ]
  },
  {
   "cell_type": "code",
   "execution_count": 149,
   "metadata": {},
   "outputs": [
    {
     "name": "stdout",
     "output_type": "stream",
     "text": [
      "4 -5\n",
      "4 -5 0\n"
     ]
    }
   ],
   "source": [
    "point = {'x':4,'y':-5}\n",
    "print('{x} {y}'.format_map(point))\n",
    "\n",
    "point = {'x':4,'y':-5, 'z': 0}\n",
    "print('{x} {y} {z}'.format_map(point))"
   ]
  }
 ],
 "metadata": {
  "kernelspec": {
   "display_name": "Python 3",
   "language": "python",
   "name": "python3"
  },
  "language_info": {
   "codemirror_mode": {
    "name": "ipython",
    "version": 3
   },
   "file_extension": ".py",
   "mimetype": "text/x-python",
   "name": "python",
   "nbconvert_exporter": "python",
   "pygments_lexer": "ipython3",
   "version": "3.7.5"
  }
 },
 "nbformat": 4,
 "nbformat_minor": 2
}
